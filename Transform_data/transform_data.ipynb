{
 "cells": [
  {
   "cell_type": "markdown",
   "metadata": {},
   "source": [
    "# Limpieza y Transformación de Datos: Uniformidad y Consistencia\n",
    "\n",
    "Este notebook asegura que todas las películas y series tengan comentarios válidos o instrucciones claras si no los hay, eliminando valores faltantes y homogenizando la información.\n"
   ]
  },
  {
   "cell_type": "code",
   "execution_count": 2,
   "metadata": {},
   "outputs": [
    {
     "name": "stderr",
     "output_type": "stream",
     "text": [
      "C:\\Users\\Arnaud\\AppData\\Local\\Temp\\ipykernel_37832\\2162656668.py:1: DeprecationWarning: \n",
      "Pyarrow will become a required dependency of pandas in the next major release of pandas (pandas 3.0),\n",
      "(to allow more performant data types, such as the Arrow string type, and better interoperability with other libraries)\n",
      "but was not found to be installed on your system.\n",
      "If this would cause problems for you,\n",
      "please provide us feedback at https://github.com/pandas-dev/pandas/issues/54466\n",
      "        \n",
      "  import pandas as pd\n"
     ]
    }
   ],
   "source": [
    "import pandas as pd\n",
    "import numpy as np"
   ]
  },
  {
   "cell_type": "code",
   "execution_count": 3,
   "metadata": {},
   "outputs": [],
   "source": [
    "#Tablon de las reseñas de las películas\n",
    "df = pd.read_csv(\"C:\\\\Users\\\\Arnaud\\\\Desktop\\\\Netflix\\\\Raw_data\\\\df_reseñas.csv\",index_col=0)\n",
    "df_clustered = pd.read_csv(\"C:\\\\Users\\\\Arnaud\\\\Desktop\\\\Netflix\\\\Raw_data\\\\df_clustered.csv\",index_col=0)"
   ]
  },
  {
   "cell_type": "markdown",
   "metadata": {},
   "source": [
    "#### Info del Tablón con todas las reseñas"
   ]
  },
  {
   "cell_type": "code",
   "execution_count": 138,
   "metadata": {},
   "outputs": [
    {
     "data": {
      "text/html": [
       "<div>\n",
       "<style scoped>\n",
       "    .dataframe tbody tr th:only-of-type {\n",
       "        vertical-align: middle;\n",
       "    }\n",
       "\n",
       "    .dataframe tbody tr th {\n",
       "        vertical-align: top;\n",
       "    }\n",
       "\n",
       "    .dataframe thead th {\n",
       "        text-align: right;\n",
       "    }\n",
       "</style>\n",
       "<table border=\"1\" class=\"dataframe\">\n",
       "  <thead>\n",
       "    <tr style=\"text-align: right;\">\n",
       "      <th></th>\n",
       "      <th>title</th>\n",
       "      <th>Título_commentario</th>\n",
       "      <th>Comentario</th>\n",
       "    </tr>\n",
       "  </thead>\n",
       "  <tbody>\n",
       "    <tr>\n",
       "      <th>0</th>\n",
       "      <td>Five Came Back: The Reference Films</td>\n",
       "      <td>Compelling examination of propaganda</td>\n",
       "      <td>An American documentary; A film about five suc...</td>\n",
       "    </tr>\n",
       "    <tr>\n",
       "      <th>1</th>\n",
       "      <td>Five Came Back: The Reference Films</td>\n",
       "      <td>Riveting and a must see</td>\n",
       "      <td>Just finished watching\"Five came back\", a trul...</td>\n",
       "    </tr>\n",
       "    <tr>\n",
       "      <th>2</th>\n",
       "      <td>Five Came Back: The Reference Films</td>\n",
       "      <td>Spectacular</td>\n",
       "      <td>I have never seen any film made by those five ...</td>\n",
       "    </tr>\n",
       "    <tr>\n",
       "      <th>3</th>\n",
       "      <td>Five Came Back: The Reference Films</td>\n",
       "      <td>Breathtaking</td>\n",
       "      <td>I am an AVID WW2 history buff. I've watched co...</td>\n",
       "    </tr>\n",
       "    <tr>\n",
       "      <th>4</th>\n",
       "      <td>Five Came Back: The Reference Films</td>\n",
       "      <td>Superb documentary series</td>\n",
       "      <td>During World War 2 several movie directors joi...</td>\n",
       "    </tr>\n",
       "  </tbody>\n",
       "</table>\n",
       "</div>"
      ],
      "text/plain": [
       "                                 title                    Título_commentario  \\\n",
       "0  Five Came Back: The Reference Films  Compelling examination of propaganda   \n",
       "1  Five Came Back: The Reference Films               Riveting and a must see   \n",
       "2  Five Came Back: The Reference Films                           Spectacular   \n",
       "3  Five Came Back: The Reference Films                          Breathtaking   \n",
       "4  Five Came Back: The Reference Films             Superb documentary series   \n",
       "\n",
       "                                          Comentario  \n",
       "0  An American documentary; A film about five suc...  \n",
       "1  Just finished watching\"Five came back\", a trul...  \n",
       "2  I have never seen any film made by those five ...  \n",
       "3  I am an AVID WW2 history buff. I've watched co...  \n",
       "4  During World War 2 several movie directors joi...  "
      ]
     },
     "execution_count": 138,
     "metadata": {},
     "output_type": "execute_result"
    }
   ],
   "source": [
    "df.head()"
   ]
  },
  {
   "cell_type": "code",
   "execution_count": 139,
   "metadata": {},
   "outputs": [
    {
     "name": "stdout",
     "output_type": "stream",
     "text": [
      "<class 'pandas.core.frame.DataFrame'>\n",
      "Index: 113179 entries, 0 to 113178\n",
      "Data columns (total 3 columns):\n",
      " #   Column              Non-Null Count   Dtype \n",
      "---  ------              --------------   ----- \n",
      " 0   title               113172 non-null  object\n",
      " 1   Título_commentario  113178 non-null  object\n",
      " 2   Comentario          113179 non-null  object\n",
      "dtypes: object(3)\n",
      "memory usage: 3.5+ MB\n"
     ]
    }
   ],
   "source": [
    "df.info()"
   ]
  },
  {
   "cell_type": "code",
   "execution_count": 140,
   "metadata": {},
   "outputs": [],
   "source": [
    "#Cambiar el nombre de las columnas\n",
    "df.rename(columns={\"Título_commentario\":\"title_comment\",\"Comentario\":\"comment\"},inplace=True)  "
   ]
  },
  {
   "cell_type": "markdown",
   "metadata": {},
   "source": [
    "### Borramos las filas con comentario no disponible y que el título disponga de mas comentarios.\n",
    "Comment = *`\"Comentario no disponible\"`*  son comentarios que incluyen **spoilers** por lo que no se han scrapeado."
   ]
  },
  {
   "cell_type": "code",
   "execution_count": 141,
   "metadata": {},
   "outputs": [
    {
     "data": {
      "text/html": [
       "<div>\n",
       "<style scoped>\n",
       "    .dataframe tbody tr th:only-of-type {\n",
       "        vertical-align: middle;\n",
       "    }\n",
       "\n",
       "    .dataframe tbody tr th {\n",
       "        vertical-align: top;\n",
       "    }\n",
       "\n",
       "    .dataframe thead th {\n",
       "        text-align: right;\n",
       "    }\n",
       "</style>\n",
       "<table border=\"1\" class=\"dataframe\">\n",
       "  <thead>\n",
       "    <tr style=\"text-align: right;\">\n",
       "      <th></th>\n",
       "      <th>title</th>\n",
       "      <th>title_comment</th>\n",
       "      <th>comment</th>\n",
       "    </tr>\n",
       "  </thead>\n",
       "  <tbody>\n",
       "    <tr>\n",
       "      <th>99141</th>\n",
       "      <td>Alexandria… Why?</td>\n",
       "      <td>A tumble of unreliable memories</td>\n",
       "      <td>Comentario no disponible</td>\n",
       "    </tr>\n",
       "    <tr>\n",
       "      <th>99144</th>\n",
       "      <td>Dark Waters</td>\n",
       "      <td>\"We should want to nail Dupont!\"</td>\n",
       "      <td>Comentario no disponible</td>\n",
       "    </tr>\n",
       "    <tr>\n",
       "      <th>99147</th>\n",
       "      <td>Dark Waters</td>\n",
       "      <td>Thank you for the fight</td>\n",
       "      <td>Comentario no disponible</td>\n",
       "    </tr>\n",
       "    <tr>\n",
       "      <th>99159</th>\n",
       "      <td>Dark Waters</td>\n",
       "      <td>Disturbing Story</td>\n",
       "      <td>Comentario no disponible</td>\n",
       "    </tr>\n",
       "    <tr>\n",
       "      <th>99161</th>\n",
       "      <td>Dark Waters</td>\n",
       "      <td>Eye Opening Tale</td>\n",
       "      <td>Comentario no disponible</td>\n",
       "    </tr>\n",
       "  </tbody>\n",
       "</table>\n",
       "</div>"
      ],
      "text/plain": [
       "                  title                     title_comment  \\\n",
       "99141  Alexandria… Why?   A tumble of unreliable memories   \n",
       "99144       Dark Waters  \"We should want to nail Dupont!\"   \n",
       "99147       Dark Waters           Thank you for the fight   \n",
       "99159       Dark Waters                  Disturbing Story   \n",
       "99161       Dark Waters                  Eye Opening Tale   \n",
       "\n",
       "                        comment  \n",
       "99141  Comentario no disponible  \n",
       "99144  Comentario no disponible  \n",
       "99147  Comentario no disponible  \n",
       "99159  Comentario no disponible  \n",
       "99161  Comentario no disponible  "
      ]
     },
     "execution_count": 141,
     "metadata": {},
     "output_type": "execute_result"
    }
   ],
   "source": [
    "df[df[\"comment\"] == \"Comentario no disponible\"].head()"
   ]
  },
  {
   "cell_type": "code",
   "execution_count": 142,
   "metadata": {},
   "outputs": [],
   "source": [
    "# Identificar los títulos que tienen al menos un comentario válido\n",
    "titles_with_valid_comments = df[df[\"comment\"] != \"Comentario no disponible\"][\"title\"].unique()\n",
    "\n",
    "# Limpiar los comentarios\n",
    "def process_row(row, valid_titles):\n",
    "    if row[\"title\"] in valid_titles and row[\"comment\"] == \"Comentario no disponible\":\n",
    "        return row[\"title_comment\"]  # Copiar el title_comment al comentario\n",
    "    elif row[\"title\"] not in valid_titles and row[\"comment\"] == \"Comentario no disponible\":\n",
    "        return \"Este título no tiene suficientes comentarios para ser analizado. No hay pros y contras que analizar, solo haz el breve resumen del título.\"\n",
    "    return row[\"comment\"]  # Mantener el comentario actual\n",
    "\n",
    "# Actualizar los comentarios\n",
    "df[\"comment\"] = df.apply(lambda row: process_row(row, titles_with_valid_comments), axis=1)"
   ]
  },
  {
   "cell_type": "code",
   "execution_count": 143,
   "metadata": {},
   "outputs": [
    {
     "name": "stdout",
     "output_type": "stream",
     "text": [
      "<class 'pandas.core.frame.DataFrame'>\n",
      "Index: 19043 entries, 20 to 112850\n",
      "Data columns (total 3 columns):\n",
      " #   Column         Non-Null Count  Dtype \n",
      "---  ------         --------------  ----- \n",
      " 0   title          19043 non-null  object\n",
      " 1   title_comment  19043 non-null  object\n",
      " 2   comment        19043 non-null  object\n",
      "dtypes: object(3)\n",
      "memory usage: 595.1+ KB\n"
     ]
    }
   ],
   "source": [
    "# Comentarios que son iguales a sus títulos\n",
    "df[df[\"comment\"] ==(df[\"title_comment\"])].info()"
   ]
  },
  {
   "cell_type": "markdown",
   "metadata": {},
   "source": [
    "### Remplazamos los comentarios de los títulos que no disponen de ningúna reseña por una instrucción clara para que la LLM sepa como tratar el título\n",
    "title_comment = *`\"No disponible\"`* son títulos poco conocídos que no tienen ningún comentario para scrapear"
   ]
  },
  {
   "cell_type": "code",
   "execution_count": 144,
   "metadata": {},
   "outputs": [
    {
     "data": {
      "text/html": [
       "<div>\n",
       "<style scoped>\n",
       "    .dataframe tbody tr th:only-of-type {\n",
       "        vertical-align: middle;\n",
       "    }\n",
       "\n",
       "    .dataframe tbody tr th {\n",
       "        vertical-align: top;\n",
       "    }\n",
       "\n",
       "    .dataframe thead th {\n",
       "        text-align: right;\n",
       "    }\n",
       "</style>\n",
       "<table border=\"1\" class=\"dataframe\">\n",
       "  <thead>\n",
       "    <tr style=\"text-align: right;\">\n",
       "      <th></th>\n",
       "      <th>title</th>\n",
       "      <th>title_comment</th>\n",
       "      <th>comment</th>\n",
       "    </tr>\n",
       "  </thead>\n",
       "  <tbody>\n",
       "    <tr>\n",
       "      <th>111516</th>\n",
       "      <td>Thiago Ventura: POKAS</td>\n",
       "      <td>No disponible</td>\n",
       "      <td>Esta película no tiene reseñas disponibles.</td>\n",
       "    </tr>\n",
       "    <tr>\n",
       "      <th>111567</th>\n",
       "      <td>Los Tigres del Norte at Folsom Prison</td>\n",
       "      <td>No disponible</td>\n",
       "      <td>Esta película no tiene reseñas disponibles.</td>\n",
       "    </tr>\n",
       "    <tr>\n",
       "      <th>111568</th>\n",
       "      <td>What the F* Is Going On?</td>\n",
       "      <td>No disponible</td>\n",
       "      <td>Esta película no tiene reseñas disponibles.</td>\n",
       "    </tr>\n",
       "    <tr>\n",
       "      <th>111569</th>\n",
       "      <td>J-Style Trip</td>\n",
       "      <td>No disponible</td>\n",
       "      <td>Esta película no tiene reseñas disponibles.</td>\n",
       "    </tr>\n",
       "    <tr>\n",
       "      <th>111591</th>\n",
       "      <td>Making Unorthodox</td>\n",
       "      <td>No disponible</td>\n",
       "      <td>Esta película no tiene reseñas disponibles.</td>\n",
       "    </tr>\n",
       "  </tbody>\n",
       "</table>\n",
       "</div>"
      ],
      "text/plain": [
       "                                        title  title_comment  \\\n",
       "111516                  Thiago Ventura: POKAS  No disponible   \n",
       "111567  Los Tigres del Norte at Folsom Prison  No disponible   \n",
       "111568               What the F* Is Going On?  No disponible   \n",
       "111569                           J-Style Trip  No disponible   \n",
       "111591                      Making Unorthodox  No disponible   \n",
       "\n",
       "                                            comment  \n",
       "111516  Esta película no tiene reseñas disponibles.  \n",
       "111567  Esta película no tiene reseñas disponibles.  \n",
       "111568  Esta película no tiene reseñas disponibles.  \n",
       "111569  Esta película no tiene reseñas disponibles.  \n",
       "111591  Esta película no tiene reseñas disponibles.  "
      ]
     },
     "execution_count": 144,
     "metadata": {},
     "output_type": "execute_result"
    }
   ],
   "source": [
    "# títulos que no tienen comentarios\n",
    "df[df[\"title_comment\"] == \"No disponible\"].head()"
   ]
  },
  {
   "cell_type": "code",
   "execution_count": 145,
   "metadata": {},
   "outputs": [],
   "source": [
    "# Actualizar los comentarios de los títulos que no tienen comentarios por una instrucción\n",
    "df.loc[df[\"title_comment\"] == \"No disponible\", \"comment\"] = (\n",
    "    \"Este titulo no tiene suficientes comentarios para ser analizado. No Hay pros y contras que analizar, solo haz el breve resumen del título.\")"
   ]
  },
  {
   "cell_type": "code",
   "execution_count": 146,
   "metadata": {},
   "outputs": [
    {
     "name": "stdout",
     "output_type": "stream",
     "text": [
      "<class 'pandas.core.frame.DataFrame'>\n",
      "Index: 545 entries, 111516 to 113178\n",
      "Data columns (total 3 columns):\n",
      " #   Column         Non-Null Count  Dtype \n",
      "---  ------         --------------  ----- \n",
      " 0   title          545 non-null    object\n",
      " 1   title_comment  545 non-null    object\n",
      " 2   comment        545 non-null    object\n",
      "dtypes: object(3)\n",
      "memory usage: 17.0+ KB\n"
     ]
    }
   ],
   "source": [
    "# Títulos que no tienen comentarios, pero si tienen instrucción\n",
    "df[df[\"comment\"] == \"Este titulo no tiene suficientes comentarios para ser analizado. No Hay pros y contras que analizar, solo haz el breve resumen del título.\"].info()"
   ]
  },
  {
   "cell_type": "markdown",
   "metadata": {},
   "source": [
    "### Valores faltantes\n",
    "\n",
    "1. **Títulos faltantes:** Se detectaron filas con valores nulos en la columna de títulos. Estas filas fueron eliminadas porque los títulos eran repetidos y no aportaban información adicional.\n",
    "\n",
    "2. **Título de comentario vacío:** Se encontró un título de comentario vacío en la columna `title_comment`. Este fue reemplazado por el texto `\"Título del comentario no disponible\"` para garantizar la uniformidad de los datos."
   ]
  },
  {
   "cell_type": "code",
   "execution_count": 147,
   "metadata": {},
   "outputs": [
    {
     "data": {
      "text/plain": [
       "title            7\n",
       "title_comment    1\n",
       "comment          0\n",
       "dtype: int64"
      ]
     },
     "execution_count": 147,
     "metadata": {},
     "output_type": "execute_result"
    }
   ],
   "source": [
    "df.isnull().sum()"
   ]
  },
  {
   "cell_type": "code",
   "execution_count": 148,
   "metadata": {},
   "outputs": [],
   "source": [
    "# Eliminar las filas que tengan valores nulos en la columna \"title\" ya que son repetidos\n",
    "df.dropna(subset=[\"title\"], inplace=True)\n",
    "\n",
    "# Remplazamos el título del comentario  por \"Título del comentario no disponible\"\n",
    "df[df[\"title_comment\"].isnull()] = \"Título del comentario no disponible\""
   ]
  },
  {
   "cell_type": "code",
   "execution_count": 149,
   "metadata": {},
   "outputs": [
    {
     "name": "stdout",
     "output_type": "stream",
     "text": [
      "<class 'pandas.core.frame.DataFrame'>\n",
      "Index: 113172 entries, 0 to 113178\n",
      "Data columns (total 3 columns):\n",
      " #   Column         Non-Null Count   Dtype \n",
      "---  ------         --------------   ----- \n",
      " 0   title          113172 non-null  object\n",
      " 1   title_comment  113172 non-null  object\n",
      " 2   comment        113172 non-null  object\n",
      "dtypes: object(3)\n",
      "memory usage: 3.5+ MB\n"
     ]
    }
   ],
   "source": [
    "df.info()"
   ]
  },
  {
   "cell_type": "markdown",
   "metadata": {},
   "source": [
    "#### Exportar csv el tablón con los datos limpios y transformados."
   ]
  },
  {
   "cell_type": "code",
   "execution_count": 150,
   "metadata": {},
   "outputs": [],
   "source": [
    "df.to_csv(\"C:\\\\Users\\\\Arnaud\\\\Desktop\\\\Netflix\\\\Raw_data\\\\reseñas_tablon_final.csv\")"
   ]
  }
 ],
 "metadata": {
  "kernelspec": {
   "display_name": "Python 3",
   "language": "python",
   "name": "python3"
  },
  "language_info": {
   "codemirror_mode": {
    "name": "ipython",
    "version": 3
   },
   "file_extension": ".py",
   "mimetype": "text/x-python",
   "name": "python",
   "nbconvert_exporter": "python",
   "pygments_lexer": "ipython3",
   "version": "3.12.1"
  }
 },
 "nbformat": 4,
 "nbformat_minor": 2
}
