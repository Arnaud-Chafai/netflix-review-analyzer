{
 "cells": [
  {
   "cell_type": "code",
   "execution_count": 10,
   "metadata": {},
   "outputs": [],
   "source": [
    "import requests\n",
    "import json\n",
    "import pandas as pd\n",
    "import random"
   ]
  },
  {
   "cell_type": "code",
   "execution_count": 12,
   "metadata": {},
   "outputs": [],
   "source": [
    "df = pd.read_csv(\"C:\\\\Users\\\\Arnaud\\\\Desktop\\\\Netflix\\\\Raw_data\\\\tablon_prueba.csv\")"
   ]
  },
  {
   "cell_type": "code",
   "execution_count": 13,
   "metadata": {},
   "outputs": [
    {
     "data": {
      "text/html": [
       "<div>\n",
       "<style scoped>\n",
       "    .dataframe tbody tr th:only-of-type {\n",
       "        vertical-align: middle;\n",
       "    }\n",
       "\n",
       "    .dataframe tbody tr th {\n",
       "        vertical-align: top;\n",
       "    }\n",
       "\n",
       "    .dataframe thead th {\n",
       "        text-align: right;\n",
       "    }\n",
       "</style>\n",
       "<table border=\"1\" class=\"dataframe\">\n",
       "  <thead>\n",
       "    <tr style=\"text-align: right;\">\n",
       "      <th></th>\n",
       "      <th>title</th>\n",
       "      <th>title_comment</th>\n",
       "      <th>comment</th>\n",
       "    </tr>\n",
       "  </thead>\n",
       "  <tbody>\n",
       "    <tr>\n",
       "      <th>0</th>\n",
       "      <td>The Healing Powers of Dude</td>\n",
       "      <td>Great Family Show with Awesome Messages!</td>\n",
       "      <td>This is a wonderful family show! It tackles gr...</td>\n",
       "    </tr>\n",
       "    <tr>\n",
       "      <th>1</th>\n",
       "      <td>The Healing Powers of Dude</td>\n",
       "      <td>Ignore the \"controversies\" and just enjoy the ...</td>\n",
       "      <td>I have a huge crush on Larisa Oleynik since ba...</td>\n",
       "    </tr>\n",
       "    <tr>\n",
       "      <th>2</th>\n",
       "      <td>The Healing Powers of Dude</td>\n",
       "      <td>Cute and lovable</td>\n",
       "      <td>I'm 34 and do not have anxiety disorder, nor d...</td>\n",
       "    </tr>\n",
       "    <tr>\n",
       "      <th>3</th>\n",
       "      <td>The Healing Powers of Dude</td>\n",
       "      <td>Fun show but inaccurate</td>\n",
       "      <td>So I do love the show but it is not accurate f...</td>\n",
       "    </tr>\n",
       "    <tr>\n",
       "      <th>4</th>\n",
       "      <td>The Healing Powers of Dude</td>\n",
       "      <td>I like the show but its inaccurate</td>\n",
       "      <td>Cute show but I don't like that Dude is an emo...</td>\n",
       "    </tr>\n",
       "  </tbody>\n",
       "</table>\n",
       "</div>"
      ],
      "text/plain": [
       "                        title  \\\n",
       "0  The Healing Powers of Dude   \n",
       "1  The Healing Powers of Dude   \n",
       "2  The Healing Powers of Dude   \n",
       "3  The Healing Powers of Dude   \n",
       "4  The Healing Powers of Dude   \n",
       "\n",
       "                                       title_comment  \\\n",
       "0           Great Family Show with Awesome Messages!   \n",
       "1  Ignore the \"controversies\" and just enjoy the ...   \n",
       "2                                   Cute and lovable   \n",
       "3                            Fun show but inaccurate   \n",
       "4                 I like the show but its inaccurate   \n",
       "\n",
       "                                             comment  \n",
       "0  This is a wonderful family show! It tackles gr...  \n",
       "1  I have a huge crush on Larisa Oleynik since ba...  \n",
       "2  I'm 34 and do not have anxiety disorder, nor d...  \n",
       "3  So I do love the show but it is not accurate f...  \n",
       "4  Cute show but I don't like that Dude is an emo...  "
      ]
     },
     "execution_count": 13,
     "metadata": {},
     "output_type": "execute_result"
    }
   ],
   "source": [
    "df.head()"
   ]
  },
  {
   "cell_type": "code",
   "execution_count": 4,
   "metadata": {},
   "outputs": [
    {
     "name": "stdout",
     "output_type": "stream",
     "text": [
      "<class 'pandas.core.frame.DataFrame'>\n",
      "Index: 113172 entries, 0 to 113178\n",
      "Data columns (total 3 columns):\n",
      " #   Column         Non-Null Count   Dtype \n",
      "---  ------         --------------   ----- \n",
      " 0   title          113172 non-null  object\n",
      " 1   title_comment  113172 non-null  object\n",
      " 2   comment        113172 non-null  object\n",
      "dtypes: object(3)\n",
      "memory usage: 3.5+ MB\n"
     ]
    }
   ],
   "source": [
    "df.info()"
   ]
  },
  {
   "cell_type": "markdown",
   "metadata": {},
   "source": [
    "#### Seleccionar un título aleatorio para representar:  *`Título recomendado por el cluster`*"
   ]
  },
  {
   "cell_type": "code",
   "execution_count": null,
   "metadata": {},
   "outputs": [
    {
     "ename": "NameError",
     "evalue": "name 'df' is not defined",
     "output_type": "error",
     "traceback": [
      "\u001b[1;31m---------------------------------------------------------------------------\u001b[0m",
      "\u001b[1;31mNameError\u001b[0m                                 Traceback (most recent call last)",
      "Cell \u001b[1;32mIn[6], line 2\u001b[0m\n\u001b[0;32m      1\u001b[0m \u001b[38;5;66;03m# Seleccionar una película aleatoria\u001b[39;00m\n\u001b[1;32m----> 2\u001b[0m random_index \u001b[38;5;241m=\u001b[39m random\u001b[38;5;241m.\u001b[39mrandint(\u001b[38;5;241m0\u001b[39m, \u001b[38;5;28mlen\u001b[39m(\u001b[43mdf\u001b[49m) \u001b[38;5;241m-\u001b[39m\u001b[38;5;241m1\u001b[39m)\n\u001b[0;32m      3\u001b[0m random_title \u001b[38;5;241m=\u001b[39m df\u001b[38;5;241m.\u001b[39miloc[random_index][\u001b[38;5;124m\"\u001b[39m\u001b[38;5;124mtitle\u001b[39m\u001b[38;5;124m\"\u001b[39m]\n\u001b[0;32m      6\u001b[0m \u001b[38;5;28mprint\u001b[39m(\u001b[38;5;124mf\u001b[39m\u001b[38;5;124m\"\u001b[39m\u001b[38;5;124mEl título de la película seleccionada aleatoriamente es: ** \u001b[39m\u001b[38;5;132;01m{\u001b[39;00mrandom_title\u001b[38;5;132;01m}\u001b[39;00m\u001b[38;5;124m **\u001b[39m\u001b[38;5;124m\"\u001b[39m)\n",
      "\u001b[1;31mNameError\u001b[0m: name 'df' is not defined"
     ]
    }
   ],
   "source": [
    "# Seleccionar una película aleatoria\n",
    "random_index = random.randint(0, len(df) -1)\n",
    "random_title = df.iloc[random_index][\"title\"]\n",
    "\n",
    "\n",
    "print(f\"El título de la película seleccionada aleatoriamente es: ** {random_title} **\")"
   ]
  },
  {
   "cell_type": "code",
   "execution_count": 5,
   "metadata": {},
   "outputs": [
    {
     "ename": "NameError",
     "evalue": "name 'df' is not defined",
     "output_type": "error",
     "traceback": [
      "\u001b[1;31m---------------------------------------------------------------------------\u001b[0m",
      "\u001b[1;31mNameError\u001b[0m                                 Traceback (most recent call last)",
      "Cell \u001b[1;32mIn[5], line 2\u001b[0m\n\u001b[0;32m      1\u001b[0m \u001b[38;5;66;03m# Filtrar las filas donde \"title\" coincide con \"pelicula_predicha\"\u001b[39;00m\n\u001b[1;32m----> 2\u001b[0m comentarios \u001b[38;5;241m=\u001b[39m \u001b[43mdf\u001b[49m[df[\u001b[38;5;124m\"\u001b[39m\u001b[38;5;124mtitle\u001b[39m\u001b[38;5;124m\"\u001b[39m] \u001b[38;5;241m==\u001b[39m random_title][[\u001b[38;5;124m\"\u001b[39m\u001b[38;5;124mtitle_comment\u001b[39m\u001b[38;5;124m\"\u001b[39m, \u001b[38;5;124m\"\u001b[39m\u001b[38;5;124mcomment\u001b[39m\u001b[38;5;124m\"\u001b[39m]]\n\u001b[0;32m      4\u001b[0m comentarios\n",
      "\u001b[1;31mNameError\u001b[0m: name 'df' is not defined"
     ]
    }
   ],
   "source": [
    "# Filtrar las filas donde \"title\" coincide con \"pelicula_predicha\"\n",
    "comentarios = df[df[\"title\"] == random_title][[\"title_comment\", \"comment\"]]\n",
    "\n",
    "comentarios"
   ]
  },
  {
   "cell_type": "code",
   "execution_count": 7,
   "metadata": {},
   "outputs": [],
   "source": [
    "# URL de la API de Ollama\n",
    "api_url = \"http://localhost:11434/api/generate\"\n",
    "\n",
    "# Cuerpo de la solicitud\n",
    "payload = {\n",
    "    \"model\": \"deepseek-r1:1.5b\",\n",
    "    \"prompt\": f\"\"\"\n",
    "Based on the following user comments about the movie or series '{random_title}', provide a concise analysis in this format:\n",
    "\n",
    "Positive Consensus:\n",
    "- One sentence summarizing the most common positive feedback.\n",
    "\n",
    "Negative Consensus:\n",
    "- One sentence summarizing the most common criticism.\n",
    "\n",
    "Summary:\n",
    "- A brief, 2-line overall perception of the movie/series, based on user feedback.\n",
    "\n",
    "Comments:\n",
    "{comentarios}\n",
    "\"\"\",\n",
    "    \"max_tokens\": 50,  # Limita la cantidad de texto generado\n",
    "    \"temperature\": 0.1,  # Respuestas más predecibles y rápidas\n",
    "    \"top_p\": 0.85,  # Reduce la diversidad del texto generado para mayor coherencia\n",
    "    \"frequency_penalty\": 0.0,  # Sin penalización para repeticiones (prioridad en rapidez)\n",
    "    \"presence_penalty\": 0.0  # Sin penalización para temas repetidos\n",
    "}\n"
   ]
  },
  {
   "cell_type": "code",
   "execution_count": null,
   "metadata": {},
   "outputs": [],
   "source": [
    "try:\n",
    "    # Conexión a la API en modo streaming\n",
    "    response = requests.post(api_url, json=payload, stream=True)\n",
    "    response.raise_for_status()  # Verifica errores HTTP\n",
    "\n",
    "    # Inicializar la respuesta completa\n",
    "    complete_response = \"\"\n",
    "\n",
    "    # Procesar la respuesta en streaming\n",
    "    for chunk in response.iter_lines():\n",
    "        if chunk:  # Verificar que el fragmento no esté vacío\n",
    "            data = chunk.decode(\"utf-8\")  # Decodificar el fragmento\n",
    "            try:\n",
    "                json_data = json.loads(data)  # Convertir de JSON a dict\n",
    "                content = json_data.get(\"response\", \"\")  # Extraer el contenido\n",
    "                print(content, end=\"\", flush=True)  # Mostrar contenido en tiempo real\n",
    "                complete_response += content  # Concatenar el contenido\n",
    "            except json.JSONDecodeError as e:\n",
    "                print(f\"\\nError procesando JSON: {e}\")\n",
    "                print(f\"Fragmento problemático: {data}\")\n",
    "\n",
    "    print(\"\\n\\nRespuesta completa:\")\n",
    "    print(complete_response)\n",
    "\n",
    "except requests.exceptions.RequestException as e:\n",
    "    print(f\"Error al conectar con la API: {e}\")"
   ]
  },
  {
   "cell_type": "code",
   "execution_count": 3,
   "metadata": {},
   "outputs": [
    {
     "ename": "SyntaxError",
     "evalue": "invalid syntax (1403022298.py, line 1)",
     "output_type": "error",
     "traceback": [
      "\u001b[1;36m  Cell \u001b[1;32mIn[3], line 1\u001b[1;36m\u001b[0m\n\u001b[1;33m    quita la fila de Series 3: y movies 3:\u001b[0m\n\u001b[1;37m          ^\u001b[0m\n\u001b[1;31mSyntaxError\u001b[0m\u001b[1;31m:\u001b[0m invalid syntax\n"
     ]
    }
   ],
   "source": [
    "quita la fila de Series 3: y movies 3:"
   ]
  },
  {
   "cell_type": "code",
   "execution_count": null,
   "metadata": {},
   "outputs": [],
   "source": []
  }
 ],
 "metadata": {
  "kernelspec": {
   "display_name": "venv",
   "language": "python",
   "name": "python3"
  },
  "language_info": {
   "codemirror_mode": {
    "name": "ipython",
    "version": 3
   },
   "file_extension": ".py",
   "mimetype": "text/x-python",
   "name": "python",
   "nbconvert_exporter": "python",
   "pygments_lexer": "ipython3",
   "version": "3.12.1"
  }
 },
 "nbformat": 4,
 "nbformat_minor": 2
}
